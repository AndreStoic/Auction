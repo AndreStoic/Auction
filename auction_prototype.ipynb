{
 "cells": [
  {
   "cell_type": "markdown",
   "id": "centered-strengthening",
   "metadata": {},
   "source": [
    "# Decentralised Loan Auction"
   ]
  },
  {
   "cell_type": "code",
   "execution_count": null,
   "id": "identical-simulation",
   "metadata": {},
   "outputs": [],
   "source": [
    "from datetime import datetime\n",
    "import numpy as np\n",
    "\n",
    "auction_maturity = datetime(2021, 3, 17, 23, 58, 15)\n",
    "loan_amount = 100\n",
    "loan_max_interest = 0.1\n",
    "bids = []"
   ]
  },
  {
   "cell_type": "code",
   "execution_count": null,
   "id": "daily-knife",
   "metadata": {},
   "outputs": [],
   "source": [
    "def init_auction(auction_maturity, loan_amount, loan_max_interest):\n",
    "    auction_maturity = auction_maturity\n",
    "    loan_amount = loan_amount\n",
    "    loan_max_interest = loan_max_interest\n",
    "    print(\"Loans initialised: Maturity: \" + str(auction_maturity) + \"Loan Amount: \" + str(loan_amount) + \"Loan max Interest: \" + str(loan_max_interest))"
   ]
  },
  {
   "cell_type": "code",
   "execution_count": null,
   "id": "international-strand",
   "metadata": {},
   "outputs": [],
   "source": [
    "def check_bid(bid_amount, bid_interest):\n",
    "    if bid_amount <= loan_amount and bid_interest <= loan_max_interest and datetime.now() < auction_maturity:\n",
    "        return [bid_amount, bid_interest]\n",
    "    else: return False"
   ]
  },
  {
   "cell_type": "code",
   "execution_count": null,
   "id": "controlling-prevention",
   "metadata": {},
   "outputs": [],
   "source": [
    "def bid(amount, interest):\n",
    "    if check_bid(amount, interest): bids.append(check_bid(amount, interest))\n",
    "    else: print('unsuccessful bid')\n",
    "    print(\"Bids: \" + str(bids))"
   ]
  },
  {
   "cell_type": "markdown",
   "id": "crazy-costume",
   "metadata": {},
   "source": [
    "## Bidding"
   ]
  },
  {
   "cell_type": "code",
   "execution_count": null,
   "id": "brutal-blond",
   "metadata": {},
   "outputs": [],
   "source": [
    "bid(50, 0.05)"
   ]
  },
  {
   "cell_type": "code",
   "execution_count": null,
   "id": "auburn-carbon",
   "metadata": {},
   "outputs": [],
   "source": [
    "bid(110, 0.05)"
   ]
  },
  {
   "cell_type": "code",
   "execution_count": null,
   "id": "recovered-evans",
   "metadata": {},
   "outputs": [],
   "source": [
    "bid(100, 0.11)"
   ]
  },
  {
   "cell_type": "code",
   "execution_count": null,
   "id": "specialized-effectiveness",
   "metadata": {},
   "outputs": [],
   "source": [
    "bid(10, 0.04)"
   ]
  },
  {
   "cell_type": "code",
   "execution_count": null,
   "id": "three-saudi",
   "metadata": {},
   "outputs": [],
   "source": [
    "bid(60, 0.045)"
   ]
  },
  {
   "cell_type": "code",
   "execution_count": null,
   "id": "searching-paste",
   "metadata": {},
   "outputs": [],
   "source": [
    "bid(40, 0.08)"
   ]
  },
  {
   "cell_type": "markdown",
   "id": "statistical-cincinnati",
   "metadata": {},
   "source": [
    "## Auction ended and bids get analysed"
   ]
  },
  {
   "cell_type": "code",
   "execution_count": null,
   "id": "interracial-passenger",
   "metadata": {},
   "outputs": [],
   "source": [
    "bids = np.array(bids)\n",
    "if not bids.any() or bids[:, 0].sum() < loan_amount: print(\"Unsuccessful auction\")\n",
    "else: print('Successful Auction')"
   ]
  },
  {
   "cell_type": "code",
   "execution_count": null,
   "id": "assisted-camel",
   "metadata": {},
   "outputs": [],
   "source": [
    "bids = bids[bids[:, 1].argsort()]\n",
    "loan_bids = bids[bids[:, 0].cumsum() <= loan_amount].tolist()\n",
    "print('Successful full bids for the loan: ' + str(loan_bids))"
   ]
  },
  {
   "cell_type": "code",
   "execution_count": null,
   "id": "middle-administration",
   "metadata": {},
   "outputs": [],
   "source": [
    "loan_bids_a = np.array(loan_bids)\n",
    "missing = loan_amount - loan_bids_a[:, 0].sum()\n",
    "bids[len(loan_bids)][0] = missing\n",
    "print('Successful filling bid: ' + str(list(bids[len(loan_bids)])))"
   ]
  },
  {
   "cell_type": "code",
   "execution_count": null,
   "id": "limiting-skiing",
   "metadata": {},
   "outputs": [],
   "source": [
    "loan_bids.append(bids[len(loan_bids)].tolist())\n",
    "print('Successful bids for the loan: ' + str(loan_bids))"
   ]
  },
  {
   "cell_type": "code",
   "execution_count": null,
   "id": "destroyed-violence",
   "metadata": {},
   "outputs": [],
   "source": [
    "loan_bids = np.array(loan_bids)\n",
    "amount = loan_bids[:,0]\n",
    "weights = amount / amount.sum()\n",
    "data = loan_bids[:,1]\n",
    "wt_avg = (data * weights).sum() / weights.sum()\n",
    "print('The interest for the loan is: ' + str(wt_avg))"
   ]
  }
 ],
 "metadata": {
  "kernelspec": {
   "display_name": "Python 3",
   "language": "python",
   "name": "python3"
  },
  "language_info": {
   "codemirror_mode": {
    "name": "ipython",
    "version": 3
   },
   "file_extension": ".py",
   "mimetype": "text/x-python",
   "name": "python",
   "nbconvert_exporter": "python",
   "pygments_lexer": "ipython3",
   "version": "3.8.3"
  }
 },
 "nbformat": 4,
 "nbformat_minor": 5
}